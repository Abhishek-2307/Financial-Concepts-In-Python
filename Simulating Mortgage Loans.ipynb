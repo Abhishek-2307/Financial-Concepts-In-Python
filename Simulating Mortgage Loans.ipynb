{
 "cells": [
  {
   "cell_type": "markdown",
   "metadata": {},
   "source": [
    "### Importing Modules for Analytics"
   ]
  },
  {
   "cell_type": "code",
   "execution_count": 1,
   "metadata": {
    "collapsed": true
   },
   "outputs": [],
   "source": [
    "import pandas as pd\n",
    "import numpy as np\n",
    "%matplotlib inline\n",
    "import matplotlib.pyplot as plt"
   ]
  },
  {
   "cell_type": "markdown",
   "metadata": {},
   "source": [
    "### Taking Out a Mortgage Loan\n",
    "\n",
    "You're currently living out of an apartment in New York City, but your blossoming career as a Data Scientist has allowed you to save up a sizable sum and purchase a home in neighboring Hoboken, New Jersey.\n",
    "\n",
    "You have decided to purchase a beautiful brownstone home in the $800,000 range. While you do have a considerable amount of cash on hand, you don't have enough to purchase the entire home outright, which means you will have to take the remaining balance out as a mortgage loan. From the sound of it, you'll have to put about 20% down up-front to a mortgage loan of that size.\n",
    "\n",
    "This up-front payment is known as a down payment."
   ]
  },
  {
   "cell_type": "code",
   "execution_count": 2,
   "metadata": {},
   "outputs": [
    {
     "name": "stdout",
     "output_type": "stream",
     "text": [
      "Initial Down Payment: 160000.0\n",
      "Mortgage Loan: 640000.0\n"
     ]
    }
   ],
   "source": [
    "# Set the value of the home you are looking to buy\n",
    "home_value = 800000\n",
    "\n",
    "# What percentage are you paying up-front?\n",
    "down_payment_percent = 0.20\n",
    "\n",
    "# Calculate the dollar value of the down payment\n",
    "down_payment = home_value*down_payment_percent\n",
    "print(\"Initial Down Payment: \" + str(down_payment))\n",
    "\n",
    "# Calculate the value of the mortgage loan required after the down payment\n",
    "mortgage_loan = home_value - down_payment\n",
    "print(\"Mortgage Loan: \" + str(mortgage_loan))"
   ]
  },
  {
   "cell_type": "markdown",
   "metadata": {},
   "source": [
    "### Calculating the Monthly Mortgage Payment\n",
    "\n",
    "In order to make sure you can afford the home, you will have to calculate the monthly mortgage payment you will have to make on a loan that size.\n",
    "\n",
    "Now, since you will be paying a monthly mortgage, you will have to convert each of the parameters into their monthly equivalents. Be careful when adjusting the interest rate, which is compounding!\n",
    "\n",
    "In order to calculate the monthly mortgage payment, you will use the numpy function .pmt(rate, nper, pv) where:\n",
    "\n",
    "rate = The periodic (monthly) interest rate\n",
    "\n",
    "nper = The number of payment periods (months) in the lifespan of the mortgage loan\n",
    "\n",
    "pv = The total value of the mortgage loan\n",
    "\n",
    "You have been given a 30-year mortgage loan quote for your desired amount at 3.75%. The value of the mortgage loan is available as mortgage_loan.\n",
    "\n",
    "The annual mortgage rate is available as mortgage_rate"
   ]
  },
  {
   "cell_type": "code",
   "execution_count": 4,
   "metadata": {},
   "outputs": [
    {
     "name": "stdout",
     "output_type": "stream",
     "text": [
      "Monthly Mortgage Payment: 2941.13\n",
      "Monthly Mortgage Payment: 2941.13\n"
     ]
    }
   ],
   "source": [
    "mortgage_rate = 0.0375\n",
    "# Derive the equivalent monthly mortgage rate from the annual rate\n",
    "mortgage_rate_periodic = (1+mortgage_rate)**(1/12) - 1\n",
    "\n",
    "# How many monthly payment periods will there be over 30 years?\n",
    "mortgage_payment_periods = 30*12\n",
    "\n",
    "# Calculate the monthly mortgage payment (multiply by -1 to keep it positive)\n",
    "periodic_mortgage_payment = -1*np.pmt(mortgage_rate_periodic, mortgage_payment_periods, mortgage_loan)\n",
    "print(\"Monthly Mortgage Payment: \" + str(round(periodic_mortgage_payment, 2)))\n",
    "# Derive the equivalent monthly mortgage rate from the annual rate\n",
    "mortgage_rate_periodic = (1+mortgage_rate)**(1/12) - 1\n",
    "\n",
    "# How many monthly payment periods will there be over 30 years?\n",
    "mortgage_payment_periods = 30*12\n",
    "\n",
    "# Calculate the monthly mortgage payment (multiply by -1 to keep it positive)\n",
    "periodic_mortgage_payment = -1*np.pmt(mortgage_rate_periodic, mortgage_payment_periods, mortgage_loan)\n",
    "print(\"Monthly Mortgage Payment: \" + str(round(periodic_mortgage_payment, 2)))"
   ]
  },
  {
   "cell_type": "markdown",
   "metadata": {},
   "source": [
    "### Calculating Interest and Principal Payments\n",
    "\n",
    "Due to the size of the mortgage loan, you begin the mortgage in the initial period by paying mostly interest and retaining very little principal, or equity that goes towards the ownership of your home.\n",
    "\n",
    "This means that if you were to stop paying your mortgage and sell your home after only a few years, the bank would actually own most of the home because what you paid was mostly interest, and very little principal.\n",
    "\n",
    "mortgage_loan, mortgage_rate_periodic, and periodic_mortgage_payment from the third exercise are available for use."
   ]
  },
  {
   "cell_type": "code",
   "execution_count": 5,
   "metadata": {},
   "outputs": [
    {
     "name": "stdout",
     "output_type": "stream",
     "text": [
      "Initial Interest Payment: 1966.43\n",
      "Initial Principal Payment: 974.7\n"
     ]
    }
   ],
   "source": [
    "# Calculate the amount of the first loan payment that will go towards interest\n",
    "initial_interest_payment = mortgage_loan*mortgage_rate_periodic\n",
    "print(\"Initial Interest Payment: \" + str(round(initial_interest_payment, 2)))\n",
    "\n",
    "# Calculate the amount of the first loan payment that will go towards principal\n",
    "initial_principal_payment = periodic_mortgage_payment - initial_interest_payment\n",
    "print(\"Initial Principal Payment: \" + str(round(initial_principal_payment, 2)))"
   ]
  },
  {
   "cell_type": "markdown",
   "metadata": {},
   "source": [
    "### Simulating Periodic Payments (I)\n",
    "\n",
    "You have all the tools you'll need to simulate the mortgage payments over time.\n",
    "\n",
    "Every time a mortgage payment is made, the following payment will have a slightly lower percentage which is used to pay off interest, meaning you that more of the remainder will go towards the portion of the home that you own, not the bank. This is important to determine how much you will gain from selling the home before paying off your mortgage, or to determine when your mortgage is underwater, but more on that later.\n",
    "\n",
    "You will now write a simple program to calculate the interest and mortgage portions of each payment over time.\n",
    "\n",
    "The mortgage_loan, mortgage_rate_periodic, and periodic_mortgage_payment variables from the third exercise are available for use.\n",
    "\n",
    "The principal_remaining variable is initialized as an array of 0's with length equal to the number of payment periods."
   ]
  },
  {
   "cell_type": "code",
   "execution_count": 18,
   "metadata": {},
   "outputs": [
    {
     "name": "stdout",
     "output_type": "stream",
     "text": [
      "Period 0: Interest Paid: 1966.43 | Principal Paid: 974.7 | Remaining Balance: 639025.3\n",
      "Period 1: Interest Paid: 1963.43 | Principal Paid: 977.7 | Remaining Balance: 638047.6\n",
      "Period 2: Interest Paid: 1960.43 | Principal Paid: 980.7 | Remaining Balance: 637066.9\n",
      "Period 3: Interest Paid: 1957.41 | Principal Paid: 983.72 | Remaining Balance: 636083.18\n",
      "Period 4: Interest Paid: 1954.39 | Principal Paid: 986.74 | Remaining Balance: 635096.44\n",
      "Period 5: Interest Paid: 1951.36 | Principal Paid: 989.77 | Remaining Balance: 634106.67\n"
     ]
    }
   ],
   "source": [
    "def print_payments(i, interest_payment, principal_payment, principal_remaining):\n",
    "    if i <= 5:\n",
    "        print(\"Period \" + str(i) + \": \" + \"Interest Paid: \" + str(interest_payment) +         \" | Principal Paid: \" + str(principal_payment) + \" | Remaining Balance: \" + str(principal_remaining[i]))\n",
    "\n",
    "# Loop through each mortgage payment period\n",
    "for i in range(0, mortgage_payment_periods):\n",
    "    \n",
    "    # Handle the case for the first iteration\n",
    "    if i == 0:\n",
    "        previous_principal_remaining = mortgage_loan\n",
    "    else:\n",
    "        previous_principal_remaining = principal_remaining[i-1]\n",
    "        \n",
    "    # Calculate the interest and principal payments\n",
    "    interest_payment = round(previous_principal_remaining*mortgage_rate_periodic, 2)\n",
    "    principal_payment = round(periodic_mortgage_payment - interest_payment, 2)\n",
    "    \n",
    "    # Catch the case where all principal is paid off in the final period\n",
    "    if previous_principal_remaining - principal_payment < 0:\n",
    "        principal_payment = previous_principal_remaining\n",
    "        \n",
    "    # Collect the principal remaining values in an array\n",
    "    principal_remaining[i] = previous_principal_remaining - principal_payment\n",
    "    \n",
    "    # Print the payments for the first few periods\n",
    "    print_payments(i, interest_payment, principal_payment, principal_remaining)"
   ]
  },
  {
   "cell_type": "code",
   "execution_count": 20,
   "metadata": {},
   "outputs": [
    {
     "data": {
      "image/png": "[encoded data removed]",
      "text/plain": [
       "<matplotlib.figure.Figure at 0x16b786c7358>"
      ]
     },
     "metadata": {},
     "output_type": "display_data"
    }
   ],
   "source": [
    "# Loop through each mortgage payment period\n",
    "for i in range(0, mortgage_payment_periods):\n",
    "    \n",
    "    # Handle the case for the first iteration\n",
    "    if i == 0:\n",
    "        previous_principal_remaining = mortgage_loan\n",
    "    else:\n",
    "        previous_principal_remaining = principal_remaining[i-1]\n",
    "        \n",
    "    # Calculate the interest based on the previous principal\n",
    "    interest_payment = round(previous_principal_remaining*mortgage_rate_periodic, 2)\n",
    "    principal_payment = round(periodic_mortgage_payment - interest_payment, 2)\n",
    "    \n",
    "    # Catch the case where all principal is paid off in the final period\n",
    "    if previous_principal_remaining - principal_payment < 0:\n",
    "        principal_payment = previous_principal_remaining\n",
    "        \n",
    "    # Collect the historical values\n",
    "    interest_paid[i] = interest_payment\n",
    "    principal_paid[i] = principal_payment\n",
    "    principal_remaining[i] = previous_principal_remaining - principal_payment\n",
    "    \n",
    "# Plot the interest vs principal\n",
    "plt.plot(interest_paid, color=\"red\")\n",
    "plt.plot(principal_paid, color=\"blue\")\n",
    "#plt.legend(handles=[interest_plot, principal_plot], loc=2)\n",
    "plt.show()"
   ]
  },
  {
   "cell_type": "markdown",
   "metadata": {},
   "source": [
    "### Cumulative Payments and Home Equity\n",
    "\n",
    "You are faithfully paying your mortgage each month, but it's difficult to tell how much of the house you actually own and how much interest you have paid in total over the years.\n",
    "\n",
    "Use np.cumsum() to add up all the interest payments and also to add up all the principal payments over time to see how your ownership changes over time.\n",
    "\n",
    "Recall that np.cumsum() performs a cumulative sum over time. Return a series of iterative sums instead of just a single number.\n",
    "\n",
    "principal_paid, interest_paid, home_value and down_payment_percent from the previous exercise are available."
   ]
  },
  {
   "cell_type": "code",
   "execution_count": 43,
   "metadata": {},
   "outputs": [
    {
     "name": "stdout",
     "output_type": "stream",
     "text": [
      "[ 0.20121838  0.2024405   0.20366638  0.20489603  0.20612945  0.20736666\n",
      "  0.20860768  0.2098525   0.21110115  0.21235364  0.21360998  0.21487017\n",
      "  0.21613424  0.21740219  0.21867404  0.21994979  0.22122946  0.22251308\n",
      "  0.22380063  0.22509214  0.22638761  0.22768706  0.22899051  0.23029796\n",
      "  0.23160944  0.23292494  0.23424448  0.23556808  0.23689574  0.23822748\n",
      "  0.23956331  0.24090325  0.2422473   0.24359549  0.24494781  0.2463043\n",
      "  0.24766495  0.24902979  0.25039881  0.25177205  0.2531495   0.25453119\n",
      "  0.25591711  0.2573073   0.25870176  0.2601005   0.26150354  0.26291089\n",
      "  0.26432256  0.26573857  0.26715894  0.26858366  0.27001276  0.27144626\n",
      "  0.27288416  0.27432649  0.27577324  0.27722444  0.27868009  0.28014021\n",
      "  0.28160483  0.28307394  0.28454756  0.28602571  0.28750841  0.28899566\n",
      "  0.29048749  0.29198389  0.29348489  0.2949905   0.29650074  0.29801563\n",
      "  0.29953516  0.30105936  0.30258825  0.30412184  0.30566014  0.30720316\n",
      "  0.30875093  0.31030345  0.31186074  0.31342281  0.31498969  0.31656138\n",
      "  0.3181379   0.31971926  0.32130549  0.32289659  0.32449258  0.32609346\n",
      "  0.32769928  0.32931001  0.3309257   0.33254635  0.33417199  0.33580261\n",
      "  0.33743825  0.33907891  0.34072461  0.34237538  0.34403121  0.34569214\n",
      "  0.34735816  0.3490293   0.35070558  0.352387    0.3540736   0.35576538\n",
      "  0.35746235  0.35916454  0.36087196  0.36258463  0.36430255  0.36602575\n",
      "  0.36775425  0.36948806  0.3712272   0.37297169  0.37472152  0.37647674\n",
      "  0.37823735  0.38000338  0.38177483  0.38355171  0.38533406  0.38712189\n",
      "  0.38891521  0.39071404  0.39251839  0.39432829  0.39614375  0.39796479\n",
      "  0.39979143  0.40162368  0.40346155  0.40530508  0.40715426  0.40900914\n",
      "  0.4108697   0.41273599  0.41460801  0.41648579  0.41836933  0.42025865\n",
      "  0.42215379  0.42405474  0.42596154  0.42787419  0.42979272  0.43171715\n",
      "  0.43364749  0.43558376  0.43752599  0.43947417  0.44142835  0.44338852\n",
      "  0.44535472  0.44732696  0.44930526  0.45128964  0.45328011  0.4552767\n",
      "  0.45727942  0.4592883   0.46130335  0.4633246   0.46535205  0.46738574\n",
      "  0.46942568  0.47147187  0.47352436  0.47558316  0.47764829  0.47971975\n",
      "  0.48179758  0.48388179  0.4859724   0.48806944  0.49017293  0.49228288\n",
      "  0.4943993   0.49652224  0.49865169  0.50078769  0.50293025  0.5050794\n",
      "  0.50723515  0.50939753  0.51156654  0.51374221  0.51592458  0.51811365\n",
      "  0.52030945  0.52251199  0.5247213   0.5269374   0.52916031  0.53139005\n",
      "  0.53362664  0.5358701   0.53812045  0.54037771  0.54264191  0.54491308\n",
      "  0.54719121  0.54947635  0.55176851  0.55406771  0.55637398  0.55868733\n",
      "  0.56100779  0.56333538  0.56567011  0.56801203  0.57036114  0.57271746\n",
      "  0.57508104  0.57745187  0.57982999  0.58221541  0.58460816  0.58700826\n",
      "  0.58941574  0.59183061  0.59425291  0.59668265  0.59911985  0.60156454\n",
      "  0.60401674  0.60647648  0.60894378  0.61141865  0.61390113  0.61639124\n",
      "  0.618889    0.62139444  0.62390756  0.62642841  0.62895701  0.63149338\n",
      "  0.63403754  0.63658951  0.63914933  0.64171701  0.64429259  0.64687608\n",
      "  0.6494675   0.65206689  0.65467426  0.65728965  0.65991308  0.66254455\n",
      "  0.66518411  0.66783179  0.6704876   0.67315158  0.67582374  0.6785041\n",
      "  0.6811927   0.68388956  0.68659471  0.68930818  0.69202998  0.69476014\n",
      "  0.69749869  0.70024565  0.70300105  0.70576493  0.70853729  0.71131816\n",
      "  0.71410759  0.71690559  0.71971218  0.72252739  0.72535125  0.72818379\n",
      "  0.73102504  0.73387501  0.73673375  0.73960126  0.74247759  0.74536275\n",
      "  0.74825678  0.7511597   0.75407154  0.75699233  0.75992209  0.76286085\n",
      "  0.76580864  0.76876549  0.77173143  0.77470648  0.77769066  0.78068403\n",
      "  0.78368658  0.78669835  0.78971939  0.7927497   0.79578933  0.79883829\n",
      "  0.80189663  0.80496436  0.80804153  0.81112814  0.81422424  0.81732985\n",
      "  0.820445    0.82356973  0.82670405  0.829848    0.83300161  0.83616491\n",
      "  0.83933794  0.84252071  0.84571326  0.84891563  0.85212783  0.8553499\n",
      "  0.85858188  0.86182378  0.86507564  0.86833749  0.87160936  0.87489129\n",
      "  0.8781833   0.88148543  0.8847977   0.88812015  0.89145281  0.89479571\n",
      "  0.89814887  0.90151235  0.90488615  0.90827032  0.9116649   0.9150699\n",
      "  0.91848536  0.92191131  0.9253478   0.92879484  0.93225248  0.93572072\n",
      "  0.93919964  0.94268924  0.94618956  0.94970064  0.9532225   0.95675519\n",
      "  0.96029872  0.96385315  0.9674185   0.9709948   0.97458209  0.9781804\n",
      "  0.98178978  0.98541024  0.98904183  0.99268456  0.9963385   1.        ]\n"
     ]
    },
    {
     "data": {
      "image/png": "[encoded data removed]",
      "text/plain": [
       "<matplotlib.figure.Figure at 0x16b78a98320>"
      ]
     },
     "metadata": {},
     "output_type": "display_data"
    }
   ],
   "source": [
    "# Calculate the cumulative home equity (principal) over time\n",
    "cumulative_home_equity = np.cumsum(principal_paid)\n",
    "\n",
    "# Calculate the cumulative interest paid over time\n",
    "cumulative_interest_paid = np.cumsum(interest_paid)\n",
    "\n",
    "# Calculate your percentage home equity over time\n",
    "cumulative_percent_owned = down_payment_percent + (cumulative_home_equity/home_value)\n",
    "print(cumulative_percent_owned)\n",
    "\n",
    "# Plot the cumulative interest paid vs equity accumulated\n",
    "plt.plot(cumulative_interest_paid, color='red')\n",
    "plt.plot(cumulative_home_equity, color='blue')\n",
    "plt.xlabel(\"Period\")\n",
    "plt.ylabel(\"Total Amount Paid\")\n",
    "plt.title(\"Cumulative Payments maid over Time\")\n",
    "#plt.legend(handles=[interest_plot, principal_plot], loc=2)\n",
    "plt.show()"
   ]
  },
  {
   "cell_type": "markdown",
   "metadata": {},
   "source": [
    "### Rising Housing Prices\n",
    "\n",
    "Home values have been rising steadily each year, and this is a rather large investment for you.\n",
    "\n",
    "Calculate your home equity value over time given a steady growth rate of 0.25% per month. A repeated array of this growth rate (with a length equal to the number of mortgage payment periods) is already stored for you in an object called growth_array.\n",
    "\n",
    "The home_value and cumulative_percent_owned variables from the previous exercise are available."
   ]
  },
  {
   "cell_type": "code",
   "execution_count": 25,
   "metadata": {
    "collapsed": true
   },
   "outputs": [],
   "source": [
    "growth_array = np.array([0.0025, 0.0025, 0.0025, 0.0025, 0.0025, 0.0025, 0.0025, 0.0025,\n",
    "       0.0025, 0.0025, 0.0025, 0.0025, 0.0025, 0.0025, 0.0025, 0.0025,\n",
    "       0.0025, 0.0025, 0.0025, 0.0025, 0.0025, 0.0025, 0.0025, 0.0025,\n",
    "       0.0025, 0.0025, 0.0025, 0.0025, 0.0025, 0.0025, 0.0025, 0.0025,\n",
    "       0.0025, 0.0025, 0.0025, 0.0025, 0.0025, 0.0025, 0.0025, 0.0025,\n",
    "       0.0025, 0.0025, 0.0025, 0.0025, 0.0025, 0.0025, 0.0025, 0.0025,\n",
    "       0.0025, 0.0025, 0.0025, 0.0025, 0.0025, 0.0025, 0.0025, 0.0025,\n",
    "       0.0025, 0.0025, 0.0025, 0.0025, 0.0025, 0.0025, 0.0025, 0.0025,\n",
    "       0.0025, 0.0025, 0.0025, 0.0025, 0.0025, 0.0025, 0.0025, 0.0025,\n",
    "       0.0025, 0.0025, 0.0025, 0.0025, 0.0025, 0.0025, 0.0025, 0.0025,\n",
    "       0.0025, 0.0025, 0.0025, 0.0025, 0.0025, 0.0025, 0.0025, 0.0025,\n",
    "       0.0025, 0.0025, 0.0025, 0.0025, 0.0025, 0.0025, 0.0025, 0.0025,\n",
    "       0.0025, 0.0025, 0.0025, 0.0025, 0.0025, 0.0025, 0.0025, 0.0025,\n",
    "       0.0025, 0.0025, 0.0025, 0.0025, 0.0025, 0.0025, 0.0025, 0.0025,\n",
    "       0.0025, 0.0025, 0.0025, 0.0025, 0.0025, 0.0025, 0.0025, 0.0025,\n",
    "       0.0025, 0.0025, 0.0025, 0.0025, 0.0025, 0.0025, 0.0025, 0.0025,\n",
    "       0.0025, 0.0025, 0.0025, 0.0025, 0.0025, 0.0025, 0.0025, 0.0025,\n",
    "       0.0025, 0.0025, 0.0025, 0.0025, 0.0025, 0.0025, 0.0025, 0.0025,\n",
    "       0.0025, 0.0025, 0.0025, 0.0025, 0.0025, 0.0025, 0.0025, 0.0025,\n",
    "       0.0025, 0.0025, 0.0025, 0.0025, 0.0025, 0.0025, 0.0025, 0.0025,\n",
    "       0.0025, 0.0025, 0.0025, 0.0025, 0.0025, 0.0025, 0.0025, 0.0025,\n",
    "       0.0025, 0.0025, 0.0025, 0.0025, 0.0025, 0.0025, 0.0025, 0.0025,\n",
    "       0.0025, 0.0025, 0.0025, 0.0025, 0.0025, 0.0025, 0.0025, 0.0025,\n",
    "       0.0025, 0.0025, 0.0025, 0.0025, 0.0025, 0.0025, 0.0025, 0.0025,\n",
    "       0.0025, 0.0025, 0.0025, 0.0025, 0.0025, 0.0025, 0.0025, 0.0025,\n",
    "       0.0025, 0.0025, 0.0025, 0.0025, 0.0025, 0.0025, 0.0025, 0.0025,\n",
    "       0.0025, 0.0025, 0.0025, 0.0025, 0.0025, 0.0025, 0.0025, 0.0025,\n",
    "       0.0025, 0.0025, 0.0025, 0.0025, 0.0025, 0.0025, 0.0025, 0.0025,\n",
    "       0.0025, 0.0025, 0.0025, 0.0025, 0.0025, 0.0025, 0.0025, 0.0025,\n",
    "       0.0025, 0.0025, 0.0025, 0.0025, 0.0025, 0.0025, 0.0025, 0.0025,\n",
    "       0.0025, 0.0025, 0.0025, 0.0025, 0.0025, 0.0025, 0.0025, 0.0025,\n",
    "       0.0025, 0.0025, 0.0025, 0.0025, 0.0025, 0.0025, 0.0025, 0.0025,\n",
    "       0.0025, 0.0025, 0.0025, 0.0025, 0.0025, 0.0025, 0.0025, 0.0025,\n",
    "       0.0025, 0.0025, 0.0025, 0.0025, 0.0025, 0.0025, 0.0025, 0.0025,\n",
    "       0.0025, 0.0025, 0.0025, 0.0025, 0.0025, 0.0025, 0.0025, 0.0025,\n",
    "       0.0025, 0.0025, 0.0025, 0.0025, 0.0025, 0.0025, 0.0025, 0.0025,\n",
    "       0.0025, 0.0025, 0.0025, 0.0025, 0.0025, 0.0025, 0.0025, 0.0025,\n",
    "       0.0025, 0.0025, 0.0025, 0.0025, 0.0025, 0.0025, 0.0025, 0.0025,\n",
    "       0.0025, 0.0025, 0.0025, 0.0025, 0.0025, 0.0025, 0.0025, 0.0025,\n",
    "       0.0025, 0.0025, 0.0025, 0.0025, 0.0025, 0.0025, 0.0025, 0.0025,\n",
    "       0.0025, 0.0025, 0.0025, 0.0025, 0.0025, 0.0025, 0.0025, 0.0025,\n",
    "       0.0025, 0.0025, 0.0025, 0.0025, 0.0025, 0.0025, 0.0025, 0.0025,\n",
    "       0.0025, 0.0025, 0.0025, 0.0025, 0.0025, 0.0025, 0.0025, 0.0025,\n",
    "       0.0025, 0.0025, 0.0025, 0.0025, 0.0025, 0.0025, 0.0025, 0.0025,\n",
    "       0.0025, 0.0025, 0.0025, 0.0025, 0.0025, 0.0025, 0.0025, 0.0025])"
   ]
  },
  {
   "cell_type": "code",
   "execution_count": 45,
   "metadata": {},
   "outputs": [
    {
     "data": {
      "image/png": "[encoded data removed]",
      "text/plain": [
       "<matplotlib.figure.Figure at 0x16b7a181b38>"
      ]
     },
     "metadata": {},
     "output_type": "display_data"
    }
   ],
   "source": [
    "# Calculate the cumulative growth over time\n",
    "cumulative_growth_forecast = np.cumprod(1+growth_array)\n",
    "\n",
    "# Forecast the home value over time\n",
    "home_value_forecast = home_value*cumulative_growth_forecast\n",
    "\n",
    "# Forecast the home equity value owned over time\n",
    "cumulative_home_value_owned = cumulative_percent_owned*home_value_forecast\n",
    "\n",
    "# Plot the home value vs equity accumulated\n",
    "plt.plot(home_value_forecast, color='red')\n",
    "plt.plot(cumulative_home_value_owned, color='blue')\n",
    "plt.xlabel(\"Period\")\n",
    "plt.ylabel(\"Value\")\n",
    "plt.title(\"Home valye vs Equity over Time\")\n",
    "#plt.legend(handles=[homevalue_plot, homeequity_plot], loc=2)\n",
    "plt.show()"
   ]
  },
  {
   "cell_type": "markdown",
   "metadata": {},
   "source": [
    "### Falling Housing Prices and Underwater Mortgages\n",
    "\n",
    "Unfortunately, you are also well aware that home prices don't always rise.\n",
    "\n",
    "An underwater mortgage is when the remaining amount you owe on your mortgage is actually higher than the value of the house itself.\n",
    "\n",
    "In this exercise, you will calculate the worst case scenario where home prices drop steadily at the rate of 0.45% per month. To speed things up, the cumulative drop in home prices has already been forecasted and stored for you in a variable called cumulative_decline_forecast, which is an array of multiplicative discount factors compared to today's price - no need to add 1 to the rate array.\n",
    "\n",
    "The outstanding principal on the mortgage is available as principal_remaining."
   ]
  },
  {
   "cell_type": "code",
   "execution_count": 30,
   "metadata": {
    "collapsed": true
   },
   "outputs": [],
   "source": [
    "decline_array = np.array([-0.0045, -0.0045, -0.0045, -0.0045, -0.0045, -0.0045, -0.0045,\n",
    "       -0.0045, -0.0045, -0.0045, -0.0045, -0.0045, -0.0045, -0.0045,\n",
    "       -0.0045, -0.0045, -0.0045, -0.0045, -0.0045, -0.0045, -0.0045,\n",
    "       -0.0045, -0.0045, -0.0045, -0.0045, -0.0045, -0.0045, -0.0045,\n",
    "       -0.0045, -0.0045, -0.0045, -0.0045, -0.0045, -0.0045, -0.0045,\n",
    "       -0.0045, -0.0045, -0.0045, -0.0045, -0.0045, -0.0045, -0.0045,\n",
    "       -0.0045, -0.0045, -0.0045, -0.0045, -0.0045, -0.0045, -0.0045,\n",
    "       -0.0045, -0.0045, -0.0045, -0.0045, -0.0045, -0.0045, -0.0045,\n",
    "       -0.0045, -0.0045, -0.0045, -0.0045, -0.0045, -0.0045, -0.0045,\n",
    "       -0.0045, -0.0045, -0.0045, -0.0045, -0.0045, -0.0045, -0.0045,\n",
    "       -0.0045, -0.0045, -0.0045, -0.0045, -0.0045, -0.0045, -0.0045,\n",
    "       -0.0045, -0.0045, -0.0045, -0.0045, -0.0045, -0.0045, -0.0045,\n",
    "       -0.0045, -0.0045, -0.0045, -0.0045, -0.0045, -0.0045, -0.0045,\n",
    "       -0.0045, -0.0045, -0.0045, -0.0045, -0.0045, -0.0045, -0.0045,\n",
    "       -0.0045, -0.0045, -0.0045, -0.0045, -0.0045, -0.0045, -0.0045,\n",
    "       -0.0045, -0.0045, -0.0045, -0.0045, -0.0045, -0.0045, -0.0045,\n",
    "       -0.0045, -0.0045, -0.0045, -0.0045, -0.0045, -0.0045, -0.0045,\n",
    "       -0.0045, -0.0045, -0.0045, -0.0045, -0.0045, -0.0045, -0.0045,\n",
    "       -0.0045, -0.0045, -0.0045, -0.0045, -0.0045, -0.0045, -0.0045,\n",
    "       -0.0045, -0.0045, -0.0045, -0.0045, -0.0045, -0.0045, -0.0045,\n",
    "       -0.0045, -0.0045, -0.0045, -0.0045, -0.0045, -0.0045, -0.0045,\n",
    "       -0.0045, -0.0045, -0.0045, -0.0045, -0.0045, -0.0045, -0.0045,\n",
    "       -0.0045, -0.0045, -0.0045, -0.0045, -0.0045, -0.0045, -0.0045,\n",
    "       -0.0045, -0.0045, -0.0045, -0.0045, -0.0045, -0.0045, -0.0045,\n",
    "       -0.0045, -0.0045, -0.0045, -0.0045, -0.0045, -0.0045, -0.0045,\n",
    "       -0.0045, -0.0045, -0.0045, -0.0045, -0.0045, -0.0045, -0.0045,\n",
    "       -0.0045, -0.0045, -0.0045, -0.0045, -0.0045, -0.0045, -0.0045,\n",
    "       -0.0045, -0.0045, -0.0045, -0.0045, -0.0045, -0.0045, -0.0045,\n",
    "       -0.0045, -0.0045, -0.0045, -0.0045, -0.0045, -0.0045, -0.0045,\n",
    "       -0.0045, -0.0045, -0.0045, -0.0045, -0.0045, -0.0045, -0.0045,\n",
    "       -0.0045, -0.0045, -0.0045, -0.0045, -0.0045, -0.0045, -0.0045,\n",
    "       -0.0045, -0.0045, -0.0045, -0.0045, -0.0045, -0.0045, -0.0045,\n",
    "       -0.0045, -0.0045, -0.0045, -0.0045, -0.0045, -0.0045, -0.0045,\n",
    "       -0.0045, -0.0045, -0.0045, -0.0045, -0.0045, -0.0045, -0.0045,\n",
    "       -0.0045, -0.0045, -0.0045, -0.0045, -0.0045, -0.0045, -0.0045,\n",
    "       -0.0045, -0.0045, -0.0045, -0.0045, -0.0045, -0.0045, -0.0045,\n",
    "       -0.0045, -0.0045, -0.0045, -0.0045, -0.0045, -0.0045, -0.0045,\n",
    "       -0.0045, -0.0045, -0.0045, -0.0045, -0.0045, -0.0045, -0.0045,\n",
    "       -0.0045, -0.0045, -0.0045, -0.0045, -0.0045, -0.0045, -0.0045,\n",
    "       -0.0045, -0.0045, -0.0045, -0.0045, -0.0045, -0.0045, -0.0045,\n",
    "       -0.0045, -0.0045, -0.0045, -0.0045, -0.0045, -0.0045, -0.0045,\n",
    "       -0.0045, -0.0045, -0.0045, -0.0045, -0.0045, -0.0045, -0.0045,\n",
    "       -0.0045, -0.0045, -0.0045, -0.0045, -0.0045, -0.0045, -0.0045,\n",
    "       -0.0045, -0.0045, -0.0045, -0.0045, -0.0045, -0.0045, -0.0045,\n",
    "       -0.0045, -0.0045, -0.0045, -0.0045, -0.0045, -0.0045, -0.0045,\n",
    "       -0.0045, -0.0045, -0.0045, -0.0045, -0.0045, -0.0045, -0.0045,\n",
    "       -0.0045, -0.0045, -0.0045, -0.0045, -0.0045, -0.0045, -0.0045,\n",
    "       -0.0045, -0.0045, -0.0045, -0.0045, -0.0045, -0.0045, -0.0045,\n",
    "       -0.0045, -0.0045, -0.0045, -0.0045, -0.0045, -0.0045, -0.0045,\n",
    "       -0.0045, -0.0045, -0.0045, -0.0045, -0.0045, -0.0045, -0.0045,\n",
    "       -0.0045, -0.0045, -0.0045, -0.0045, -0.0045, -0.0045, -0.0045,\n",
    "       -0.0045, -0.0045, -0.0045])"
   ]
  },
  {
   "cell_type": "code",
   "execution_count": 42,
   "metadata": {},
   "outputs": [
    {
     "data": {
      "image/png": "[encoded data removed]",
      "text/plain": [
       "<matplotlib.figure.Figure at 0x16b78d35da0>"
      ]
     },
     "metadata": {},
     "output_type": "display_data"
    }
   ],
   "source": [
    "# Cumulative drop in home value over time as a ratio\n",
    "cumulative_decline_forecast = np.cumprod(1+decline_array)\n",
    "\n",
    "# Forecast the home value over time\n",
    "home_value_forecast = home_value*cumulative_decline_forecast\n",
    "\n",
    "# Find all periods where your mortgage is underwater\n",
    "underwater = principal_remaining > home_value_forecast\n",
    "pd.value_counts(underwater)\n",
    "\n",
    "# Plot the home value vs principal remaining\n",
    "plt.plot(home_value_forecast, color='red')\n",
    "plt.plot(principal_remaining, color='blue')\n",
    "plt.xlabel('Period')\n",
    "plt.ylabel('Value')\n",
    "plt.title('Home value vs Mortgage Principle Remaining')           \n",
    "#plt.legend(handles=[homevalue_plot, principal_plot], loc=2)\n",
    "plt.show()"
   ]
  },
  {
   "cell_type": "code",
   "execution_count": null,
   "metadata": {
    "collapsed": true
   },
   "outputs": [],
   "source": []
  }
 ],
 "metadata": {
  "kernelspec": {
   "display_name": "Python 3",
   "language": "python",
   "name": "python3"
  },
  "language_info": {
   "codemirror_mode": {
    "name": "ipython",
    "version": 3
   },
   "file_extension": ".py",
   "mimetype": "text/x-python",
   "name": "python",
   "nbconvert_exporter": "python",
   "pygments_lexer": "ipython3",
   "version": "3.6.1"
  }
 },
 "nbformat": 4,
 "nbformat_minor": 2
}
