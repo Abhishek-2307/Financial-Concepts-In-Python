{
 "cells": [
  {
   "cell_type": "markdown",
   "metadata": {},
   "source": [
    "### Importing Modules for Analysis"
   ]
  },
  {
   "cell_type": "code",
   "execution_count": 2,
   "metadata": {
    "collapsed": true
   },
   "outputs": [],
   "source": [
    "import numpy as np\n",
    "import pandas as pd\n",
    "%matplotlib inline\n",
    "import matplotlib.pyplot as plt"
   ]
  },
  {
   "cell_type": "markdown",
   "metadata": {},
   "source": [
    "### Salary and Taxes\n",
    "\n",
    "You just got a new job as an entry-level Data Scientist at a technology company in New York City with a decent starting salary of $85,000 per year.\n",
    "\n",
    "Unfortunately, after state and local taxes, you can expect to be sending roughly 30% back to the government each year.\n",
    "\n",
    "You will need to calculate your monthly take home pay after taxes in order to begin budgeting."
   ]
  },
  {
   "cell_type": "code",
   "execution_count": 3,
   "metadata": {},
   "outputs": [
    {
     "name": "stdout",
     "output_type": "stream",
     "text": [
      "Salary after taxes: 59500.0\n",
      "Monthly takehome salary: 4958.33\n"
     ]
    }
   ],
   "source": [
    "# Enter your annual salary\n",
    "salary = 85000\n",
    "\n",
    "# Assume a tax rate of 30%\n",
    "tax_rate = 0.30\n",
    "\n",
    "# Calculate your salary after taxes\n",
    "salary_after_taxes = salary*(1 - tax_rate)\n",
    "print(\"Salary after taxes: \" + str(round(salary_after_taxes, 2)))\n",
    "\n",
    "# Calculate your monthly salary after taxes\n",
    "monthly_takehome_salary = salary_after_taxes / 12\n",
    "print(\"Monthly takehome salary: \" + str(round(monthly_takehome_salary, 2)))"
   ]
  },
  {
   "cell_type": "markdown",
   "metadata": {},
   "source": [
    "### Monthly Expenses and Savings\n",
    "\n",
    "In order to make it in New York City, you have decided to split a two-bedroom apartment with a friend. You will have to budget for rent, food and entertainment, but it's also a good idea to allocate an amount for unforeseen expenses each month. This unforeseen expenses budget could be used for anything ranging from new clothes or electronics to doctor appointments.\n",
    "\n",
    "Set up your monthly budget as follows:\n",
    "\n",
    "Rent: $1200 / month (Includes utilities)\n",
    "\n",
    "Food: $30 / day (On average. Includes groceries and eating out.)\n",
    "\n",
    "Entertainment: $200 / month (Movies, drinks, museums, parties...)\n",
    "\n",
    "Unforeseen Expenses: 250 / month (Stay safe, and don't drop your phone!)\n",
    "\n",
    "For this application, assume an average of 30 days per month. Whatever is left after your paying your monthly expenses will go into your savings account each month.\n",
    "\n",
    "monthly_takehome_salary from the previous exercise is available."
   ]
  },
  {
   "cell_type": "code",
   "execution_count": 4,
   "metadata": {},
   "outputs": [
    {
     "name": "stdout",
     "output_type": "stream",
     "text": [
      "Monthly expenses: 2550\n",
      "Monthly savings: 2408.33\n"
     ]
    }
   ],
   "source": [
    "# Enter your monthly rent\n",
    "monthly_rent = 1200\n",
    "\n",
    "# Enter your daily food budget\n",
    "daily_food_budget = 30\n",
    "\n",
    "# Calculate your monthly food budget assuming 30 days per month\n",
    "monthly_food_budget = daily_food_budget * 30\n",
    "\n",
    "# Set your monthly entertainment budget\n",
    "monthly_entertainment_budget = 200\n",
    "\n",
    "# Allocate funds for unforeseen expenses, just in case\n",
    "monthly_unforeseen_expenses = 250\n",
    "\n",
    "# Next, calculate your total monthly expenses\n",
    "monthly_expenses = monthly_rent + monthly_food_budget + monthly_entertainment_budget + monthly_unforeseen_expenses\n",
    "print(\"Monthly expenses: \" + str(round(monthly_expenses, 2)))\n",
    "\n",
    "# Finally, calculate your monthly take-home savings\n",
    "monthly_savings = monthly_takehome_salary - monthly_expenses\n",
    "print(\"Monthly savings: \" + str(round(monthly_savings, 2)))"
   ]
  },
  {
   "cell_type": "markdown",
   "metadata": {},
   "source": [
    "### Forecast Salary Growth and Cost of Living\n",
    "\n",
    "Due to both inflation and increased productivity from experience, you can expect your salary to grow at different rates depending on your job. Now, since you are working in a growing and in-demand career field as a Data Scientist, you can assume a steady growth in your annual salary every year based on performance.\n",
    "\n",
    "You can assume an annual salary growth rate of 5%, which means if you start at $85,000 per year, you can expect to earn over $176,000 per year after 15 years. After taxes, assuming your tax rate hasn't changed, that works out to roughly $125,000 per year, which is not unreasonable for a Data Scientist. In fact, you might even make it to that level in a few years! But just to be safe, you should be conservative with your projections.\n",
    "\n",
    "For this application, assume all inflation and salary growth happens in smaller increments on a monthly basis instead of just one large increase at the end of each year.\n",
    "\n",
    "monthly_takehome_salary from the previous exercise is available."
   ]
  },
  {
   "cell_type": "code",
   "execution_count": 11,
   "metadata": {},
   "outputs": [
    {
     "data": {
      "image/png": "[encoded data removed]",
      "text/plain": [
       "<matplotlib.figure.Figure at 0x24131464ba8>"
      ]
     },
     "metadata": {},
     "output_type": "display_data"
    }
   ],
   "source": [
    "# Create monthly forecasts up to 15 years from now\n",
    "forecast_months = 12*15\n",
    "\n",
    "# Set your annual salary growth rate\n",
    "annual_salary_growth = 0.05\n",
    "\n",
    "# Calculate your equivalent monthly salary growth rate\n",
    "monthly_salary_growth = (1+annual_salary_growth)**(1/12) - 1\n",
    "\n",
    "# Forecast the cumulative growth of your salary\n",
    "cumulative_salary_growth_forecast = np.cumprod(np.repeat(1 + monthly_salary_growth, forecast_months))\n",
    "\n",
    "# Calculate the actual salary forecast\n",
    "salary_forecast = monthly_takehome_salary*cumulative_salary_growth_forecast\n",
    "\n",
    "# Plot the forecasted salary\n",
    "plt.plot(salary_forecast, color='blue')\n",
    "plt.title(\"Salary Forecast\")\n",
    "plt.xlabel(\"Period\")\n",
    "plt.ylabel(\"Monthly Salary\")\n",
    "plt.show()"
   ]
  },
  {
   "cell_type": "markdown",
   "metadata": {},
   "source": [
    "### Forecast Growing Expenses Due to Inflation\n",
    "\n",
    "You will also assume your monthly expenses will rise by an average of 2.5% per year due to inflation. This will lead to higher cost of living over time, paying for the same expenses each year but at a higher price. Luckily, your salary is growing faster than inflation, which means you should have more money going into savings each month.\n",
    "\n",
    "The monthly_expenses and forecast_months variables from the previous exercise are available."
   ]
  },
  {
   "cell_type": "code",
   "execution_count": 10,
   "metadata": {},
   "outputs": [
    {
     "data": {
      "image/png": "[encoded data removed]",
      "text/plain": [
       "<matplotlib.figure.Figure at 0x241316830b8>"
      ]
     },
     "metadata": {},
     "output_type": "display_data"
    }
   ],
   "source": [
    "# Set the annual inflation rate\n",
    "annual_inflation = 0.025\n",
    "\n",
    "# Calculate the equivalent monthly inflation rate\n",
    "monthly_inflation = (1+annual_inflation)**(1/12) - 1\n",
    "\n",
    "# Forecast cumulative inflation over time\n",
    "cumulative_inflation_forecast = np.cumprod(np.repeat(1 + monthly_inflation, forecast_months))\n",
    "\n",
    "# Calculate your forecasted expenses\n",
    "expenses_forecast = monthly_expenses*cumulative_inflation_forecast\n",
    "\n",
    "# Plot the forecasted expenses\n",
    "plt.plot(expenses_forecast, color='red')\n",
    "plt.xlabel(\"Period\")\n",
    "plt.ylabel(\"Monthly Expenses\")\n",
    "plt.title(\"Expenses Forecast\")\n",
    "plt.show()"
   ]
  },
  {
   "cell_type": "markdown",
   "metadata": {},
   "source": [
    "### Calculate Your Net Worth\n",
    "\n",
    "Now that you have forecasted your savings and salary over time, taking into account career progression and inflation, you have constructed a time-series which you can use to calculate your cash flows, just like in Chapter 1.\n",
    "\n",
    "For this example, all you need to do is subtract your forecasted monthly expenses from your forcasted monthly salary. The remaining cash flow will go straight into your savings account for each month.\n",
    "\n",
    "You want to project your cumulative savings over time to see how effective your budgeting process will be given your projections.\n",
    "\n",
    "salary_forecast and expenses_forecast from the previous exercises are available."
   ]
  },
  {
   "cell_type": "code",
   "execution_count": 9,
   "metadata": {},
   "outputs": [
    {
     "name": "stdout",
     "output_type": "stream",
     "text": [
      "Your final net worth: 762318.83\n"
     ]
    },
    {
     "data": {
      "image/png": "[encoded data removed]",
      "text/plain": [
       "<matplotlib.figure.Figure at 0x2413152ada0>"
      ]
     },
     "metadata": {},
     "output_type": "display_data"
    }
   ],
   "source": [
    "# Calculate your savings for each month\n",
    "savings_forecast = salary_forecast - expenses_forecast\n",
    "\n",
    "# Calculate your cumulative savings over time\n",
    "cumulative_savings = np.cumsum(savings_forecast)\n",
    "\n",
    "# Print the final cumulative savings after 15 years\n",
    "final_net_worth = cumulative_savings[-1]\n",
    "print(\"Your final net worth: \" + str(round(final_net_worth, 2)))\n",
    "\n",
    "# Plot the forecasted savings\n",
    "plt.plot(cumulative_savings, color='blue')\n",
    "plt.xlabel(\"Period\")\n",
    "plt.ylabel(\"Cumulative Savings\")\n",
    "plt.title(\"Forecasted savings over Time\")\n",
    "plt.show()"
   ]
  },
  {
   "cell_type": "markdown",
   "metadata": {},
   "source": [
    "### So You Want to Be a Millionaire?\n",
    "\n",
    "Your projections show that you can accumulate over $700,000 in just 15 years by following a strict budget and growing your salary steadily over time.\n",
    "\n",
    "But you want to be a millionaire in 15 years, retire young, sip margaritas and travel for the rest of your life. In order to do that, you're going to need to invest.\n",
    "\n",
    "Remember the .pmt() function from numpy? You can use this function to calculate how much you need to save each month in order to accumulate your desired wealth over time.\n",
    "\n",
    "You still have a lot to learn about the stock market, but your financial advisor told you that you can earn anywhere from 5-10% per year on your capital on average by investing in a low cost index fund.\n",
    "\n",
    "You know that the stock market doesn't always go up, but you will assume a modest 7% return per year, which has been the average annual return in the US stock market from 1950-2009.\n",
    "\n",
    "The forecast_months variable from the previous exercise is available."
   ]
  },
  {
   "cell_type": "code",
   "execution_count": 8,
   "metadata": {},
   "outputs": [
    {
     "name": "stdout",
     "output_type": "stream",
     "text": [
      "You will have to invest $3214.35 per month to amass $1M over 15 years\n"
     ]
    }
   ],
   "source": [
    "# Set the annual investment return to 7%\n",
    "investment_rate_annual = 0.07\n",
    "\n",
    "# Calculate the monthly investment return\n",
    "investment_rate_monthly = (1+investment_rate_annual)**(1/12) - 1\n",
    "\n",
    "# Calculate your required monthly investment to amass $1M\n",
    "required_investment_monthly = np.pmt(rate=investment_rate_monthly, nper=forecast_months, pv=0, fv=-1000000)\n",
    "print(\"You will have to invest $\" + str(round(required_investment_monthly, 2)) + \" per month to amass $1M over 15 years\")"
   ]
  },
  {
   "cell_type": "markdown",
   "metadata": {},
   "source": [
    "### Investing a Percentage of Your Income (I)\n",
    "\n",
    "Unfortunately, you really can't afford to save $3,000 per month in order to amass $1,000,000 after only 15 years.\n",
    "\n",
    "But what you can do is start slowly, investing a small percentage of your take-home income each month, which should grow over time as your income grows as well.\n",
    "\n",
    "In this exercise, you will lay the foundations to simulate this investing process over time.\n",
    "\n",
    "The salary_forecast and expenses_forecast variables are available from the previous exercise.\n",
    "\n",
    "The cash_flow_forecast is also available, and is an array of your forecasted salary minus your forecasted expenses. The monthly_investment_percentage variable is already set to 0.30."
   ]
  },
  {
   "cell_type": "code",
   "execution_count": 13,
   "metadata": {
    "collapsed": true
   },
   "outputs": [],
   "source": [
    "cash_flow_forecast = np.array([2423.27826769, 2438.29801669, 2453.38956001, 2468.55321198,\n",
    "       2483.78928828, 2499.0981059 , 2514.47998316, 2529.93523974,\n",
    "       2545.46419666, 2561.06717629, 2576.74450237, 2592.4965    ,\n",
    "       2608.32349564, 2624.22581713, 2640.20379371, 2656.25775598,\n",
    "       2672.38803595, 2688.59496702, 2704.87888401, 2721.24012312,\n",
    "       2737.67902201, 2754.19591972, 2770.79115674, 2787.465075  ,\n",
    "       2804.21801785, 2821.05033009, 2837.96235799, 2854.95444926,\n",
    "       2872.02695308, 2889.1802201 , 2906.41460244, 2923.73045372,\n",
    "       2941.12812902, 2958.60798494, 2976.17037957, 2993.8156725 ,\n",
    "       3011.54422485, 3029.35639925, 3047.25255985, 3065.23307234,\n",
    "       3083.29830395, 3101.44862345, 3119.68440115, 3138.00600895,\n",
    "       3156.41382027, 3174.90821015, 3193.48955515, 3212.15823347,\n",
    "       3230.91462486, 3249.75911068, 3268.6920739 , 3287.7138991 ,\n",
    "       3306.82497245, 3326.02568177, 3345.31641652, 3364.69756776,\n",
    "       3384.16952821, 3403.73269226, 3423.38745593, 3443.13421692,\n",
    "       3462.97337459, 3482.90532997, 3502.93048581, 3523.04924651,\n",
    "       3543.2620182 , 3563.5692087 , 3583.97122753, 3604.46848596,\n",
    "       3625.06139697, 3645.75037528, 3666.53583733, 3687.41820134,\n",
    "       3708.39788726, 3729.47531682, 3750.65091352, 3771.92510261,\n",
    "       3793.29831117, 3814.77096803, 3836.34350385, 3858.01635108,\n",
    "       3879.78994398, 3901.66471865, 3923.64111301, 3945.71956682,\n",
    "       3967.90052167, 3990.18442102, 4012.5717102 , 4035.06283636,\n",
    "       4057.65824859, 4080.35839781, 4103.16373686, 4126.07472047,\n",
    "       4149.09180527, 4172.21544981, 4195.44611457, 4218.78426195,\n",
    "       4242.2303563 , 4265.78486389, 4289.44825298, 4313.22099377,\n",
    "       4337.10355843, 4361.09642111, 4385.20005797, 4409.41494712,\n",
    "       4433.74156872, 4458.18040491, 4482.73193986, 4507.39665977,\n",
    "       4532.17505287, 4557.06760945, 4582.07482184, 4607.19718443,\n",
    "       4632.43519369, 4657.78934816, 4683.26014848, 4708.84809737,\n",
    "       4734.55369967, 4760.37746232, 4786.31989439, 4812.38150709,\n",
    "       4838.56281374, 4864.86432985, 4891.28657305, 4917.83006315,\n",
    "       4944.49532215, 4971.28287422, 4998.19324572, 5025.22696521,\n",
    "       5052.38456349, 5079.66657354, 5107.0735306 , 5134.60597214,\n",
    "       5162.26443786, 5190.04946976, 5217.96161207, 5246.0014113 ,\n",
    "       5274.16941625, 5302.46617804, 5330.89225006, 5359.44818802,\n",
    "       5388.13454996, 5416.95189627, 5445.90078965, 5474.98179518,\n",
    "       5504.19548028, 5533.54241476, 5563.02317079, 5592.63832297,\n",
    "       5622.38844826, 5652.27412606, 5682.29593816, 5712.45446882,\n",
    "       5742.75030472, 5773.18403499, 5803.75625122, 5834.46754748,\n",
    "       5865.31852032, 5896.30976879, 5927.44189441, 5958.71550126,\n",
    "       5990.1311959 , 6021.68958745, 6053.39128757, 6085.23691046,\n",
    "       6117.2270729 , 6149.36239424, 6181.64349642, 6214.07100397,\n",
    "       6246.64554402, 6279.36774635, 6312.23824334, 6345.25767001,\n",
    "       6378.42666405, 6411.74586579, 6445.21591825, 6478.83746713,\n",
    "       6512.61116081, 6546.53765039, 6580.61758969, 6614.85163525])"
   ]
  },
  {
   "cell_type": "code",
   "execution_count": 17,
   "metadata": {},
   "outputs": [
    {
     "data": {
      "image/png": "[encoded data removed]",
      "text/plain": [
       "<matplotlib.figure.Figure at 0x24132d820f0>"
      ]
     },
     "metadata": {},
     "output_type": "display_data"
    }
   ],
   "source": [
    "monthly_investment_percentage = 0.3\n",
    "# Calculate your monthly deposit into your investment account\n",
    "investment_deposit_forecast = cash_flow_forecast * monthly_investment_percentage\n",
    "\n",
    "# The rest goes into your savings account\n",
    "savings_forecast_new = cash_flow_forecast * (1 - monthly_investment_percentage)\n",
    "\n",
    "# Calculate your cumulative savings over time\n",
    "cumulative_savings_new = np.cumsum(savings_forecast_new)\n",
    "\n",
    "# Plot your forecasted monthly savings vs investments\n",
    "plt.plot(investment_deposit_forecast, color='red')\n",
    "plt.plot(savings_forecast_new, color='blue')\n",
    "plt.xlabel(\"Period\")\n",
    "plt.ylabel(\"Monthly Value\")\n",
    "plt.title(\"Forecasted Monthly Savings vs Investments\")\n",
    "#plt.legend(handles=[investments_plot, savings_plot], loc=2)\n",
    "plt.show()"
   ]
  },
  {
   "cell_type": "markdown",
   "metadata": {},
   "source": [
    "### Investing a Percentage of Your Income (II)\n",
    "\n",
    "To finish up your investment simulation, you will need to loop through each time period, calculate the growth of any investments you have already made, add your new monthly deposit, and calculate your net worth at each point in time.\n",
    "\n",
    "You can do it!\n",
    "\n",
    "Cumulative savings (cumulative_savings_new) from the previous exercise is available, and investment_portfolio and net_worth are pre-allocated empty numpy arrays of length equal to forecast_months."
   ]
  },
  {
   "cell_type": "code",
   "execution_count": 21,
   "metadata": {
    "collapsed": true
   },
   "outputs": [],
   "source": [
    "investment_portfolio = np.array([0., 0., 0., 0., 0., 0., 0., 0., 0., 0., 0., 0., 0., 0., 0., 0., 0.,\n",
    "       0., 0., 0., 0., 0., 0., 0., 0., 0., 0., 0., 0., 0., 0., 0., 0., 0.,\n",
    "       0., 0., 0., 0., 0., 0., 0., 0., 0., 0., 0., 0., 0., 0., 0., 0., 0.,\n",
    "       0., 0., 0., 0., 0., 0., 0., 0., 0., 0., 0., 0., 0., 0., 0., 0., 0.,\n",
    "       0., 0., 0., 0., 0., 0., 0., 0., 0., 0., 0., 0., 0., 0., 0., 0., 0.,\n",
    "       0., 0., 0., 0., 0., 0., 0., 0., 0., 0., 0., 0., 0., 0., 0., 0., 0.,\n",
    "       0., 0., 0., 0., 0., 0., 0., 0., 0., 0., 0., 0., 0., 0., 0., 0., 0.,\n",
    "       0., 0., 0., 0., 0., 0., 0., 0., 0., 0., 0., 0., 0., 0., 0., 0., 0.,\n",
    "       0., 0., 0., 0., 0., 0., 0., 0., 0., 0., 0., 0., 0., 0., 0., 0., 0.,\n",
    "       0., 0., 0., 0., 0., 0., 0., 0., 0., 0., 0., 0., 0., 0., 0., 0., 0.,\n",
    "       0., 0., 0., 0., 0., 0., 0., 0., 0., 0.])\n",
    "\n",
    "net_worth = np.array([0., 0., 0., 0., 0., 0., 0., 0., 0., 0., 0., 0., 0., 0., 0., 0., 0.,\n",
    "       0., 0., 0., 0., 0., 0., 0., 0., 0., 0., 0., 0., 0., 0., 0., 0., 0.,\n",
    "       0., 0., 0., 0., 0., 0., 0., 0., 0., 0., 0., 0., 0., 0., 0., 0., 0.,\n",
    "       0., 0., 0., 0., 0., 0., 0., 0., 0., 0., 0., 0., 0., 0., 0., 0., 0.,\n",
    "       0., 0., 0., 0., 0., 0., 0., 0., 0., 0., 0., 0., 0., 0., 0., 0., 0.,\n",
    "       0., 0., 0., 0., 0., 0., 0., 0., 0., 0., 0., 0., 0., 0., 0., 0., 0.,\n",
    "       0., 0., 0., 0., 0., 0., 0., 0., 0., 0., 0., 0., 0., 0., 0., 0., 0.,\n",
    "       0., 0., 0., 0., 0., 0., 0., 0., 0., 0., 0., 0., 0., 0., 0., 0., 0.,\n",
    "       0., 0., 0., 0., 0., 0., 0., 0., 0., 0., 0., 0., 0., 0., 0., 0., 0.,\n",
    "       0., 0., 0., 0., 0., 0., 0., 0., 0., 0., 0., 0., 0., 0., 0., 0., 0.,\n",
    "       0., 0., 0., 0., 0., 0., 0., 0., 0., 0.])"
   ]
  },
  {
   "cell_type": "code",
   "execution_count": 27,
   "metadata": {},
   "outputs": [
    {
     "data": {
      "image/png": "[encoded data removed]",
      "text/plain": [
       "<matplotlib.figure.Figure at 0x24132dc27f0>"
      ]
     },
     "metadata": {},
     "output_type": "display_data"
    }
   ],
   "source": [
    "def plot_investments(investment_portfolio, cumulative_savings_new, net_worth):\n",
    "  \tplt.plot(investment_portfolio, color='red')\n",
    "  \tplt.plot(cumulative_savings_new, color='blue')\n",
    "  \tplt.plot(net_worth, color='green')\n",
    "  \t#plt.legend(handles=[investments_plot,savings_plot,networth_plot], loc=2)\n",
    "  \tplt.show()\n",
    "# Loop through each forecast period\n",
    "for i in range(forecast_months):\n",
    "    \n",
    "    # Find the previous investment deposit amount\n",
    "    if i == 0: \n",
    "        previous_investment = 0\n",
    "    else:\n",
    "        previous_investment = investment_portfolio[i-1]\n",
    "        \n",
    "    # Calculate the value of your previous investments, which have grown\n",
    "    previous_investment_growth = previous_investment*(1 + investment_rate_monthly)\n",
    "    \n",
    "    # Add your new deposit to your investment portfolio\n",
    "    investment_portfolio[i] =  previous_investment_growth + investment_deposit_forecast[i]\n",
    "    \n",
    "    # Calculate your net worth at each point in time\n",
    "    net_worth[i] = investment_portfolio[i] + cumulative_savings_new[i]\n",
    "         \n",
    "# Plot your forecasted cumulative savings vs investments and net worth\n",
    "plot_investments(investment_portfolio, cumulative_savings_new, net_worth)"
   ]
  },
  {
   "cell_type": "markdown",
   "metadata": {},
   "source": [
    "### Inflation-Adjusted Net Worth\n",
    "By saving 30% per year, your simulation shows that you can accumulate $896,962.66. Not quite a millionaire, but not bad at all!\n",
    "\n",
    "For the sake of simplicity, let's assume you were able to save $900,000 by following your budget.\n",
    "\n",
    "But what if you retire 15 years from now? What is $900,000 going to be truly worth 15 years from now?"
   ]
  },
  {
   "cell_type": "code",
   "execution_count": 28,
   "metadata": {},
   "outputs": [
    {
     "name": "stdout",
     "output_type": "stream",
     "text": [
      "Your inflation-adjusted net worth: $621419.0\n"
     ]
    }
   ],
   "source": [
    "\n",
    "# Set your future net worth\n",
    "future_net_worth = 900000\n",
    "\n",
    "# Set the annual inflation rate to 2.5%\n",
    "annual_inflation = 0.025\n",
    "\n",
    "# Calculate the present value of your terminal wealth over 15 years\n",
    "inflation_adjusted_net_worth = np.pv(rate=annual_inflation, nper=15, pmt=0, fv=-1*future_net_worth)\n",
    "print(\"Your inflation-adjusted net worth: $\" + str(round(inflation_adjusted_net_worth, 2)))"
   ]
  },
  {
   "cell_type": "code",
   "execution_count": null,
   "metadata": {
    "collapsed": true
   },
   "outputs": [],
   "source": []
  }
 ],
 "metadata": {
  "kernelspec": {
   "display_name": "Python 3",
   "language": "python",
   "name": "python3"
  },
  "language_info": {
   "codemirror_mode": {
    "name": "ipython",
    "version": 3
   },
   "file_extension": ".py",
   "mimetype": "text/x-python",
   "name": "python",
   "nbconvert_exporter": "python",
   "pygments_lexer": "ipython3",
   "version": "3.6.1"
  }
 },
 "nbformat": 4,
 "nbformat_minor": 2
}
